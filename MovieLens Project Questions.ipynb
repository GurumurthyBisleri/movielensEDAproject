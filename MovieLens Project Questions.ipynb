{
 "cells": [
  {
   "cell_type": "markdown",
   "metadata": {},
   "source": [
    "### Project - MovieLens Data Analysis\n",
    "\n",
    "The GroupLens Research Project is a research group in the Department of Computer Science and Engineering at the University of Minnesota. The data is widely used for collaborative filtering and other filtering solutions. However, we will be using this data to act as a means to demonstrate our skill in using Python to “play” with data.\n",
    "\n",
    "#### Domain \n",
    "Internet and Entertainment\n",
    "\n",
    "**Note that the project will need you to apply the concepts of groupby and merging extensively.**"
   ]
  },
  {
   "cell_type": "code",
   "execution_count": 1,
   "metadata": {},
   "outputs": [
    {
     "data": {
      "text/plain": [
       "'This is MovieLens Data Analysis project primarily using Python Numpy, Pandas and Seaborn packages'"
      ]
     },
     "execution_count": 1,
     "metadata": {},
     "output_type": "execute_result"
    }
   ],
   "source": [
    "'''This is MovieLens Data Analysis project primarily using Python Numpy, Pandas and Seaborn packages'''"
   ]
  },
  {
   "cell_type": "markdown",
   "metadata": {},
   "source": [
    "#### 1. Import the necessary packages - 2.5 marks"
   ]
  },
  {
   "cell_type": "code",
   "execution_count": 7,
   "metadata": {},
   "outputs": [
    {
     "name": "stdout",
     "output_type": "stream",
     "text": [
      "Exception reporting mode: Verbose\n"
     ]
    }
   ],
   "source": [
    "import numpy as np\n",
    "import pandas as pd\n",
    "import seaborn as sns\n",
    "%matplotlib inline\n",
    "sns.set_style(style='darkgrid') # setting background for graphs to have a better view\n",
    "%xmode verbose"
   ]
  },
  {
   "cell_type": "markdown",
   "metadata": {},
   "source": [
    "#### 2. Read the 3 datasets into dataframes - 2.5 marks"
   ]
  },
  {
   "cell_type": "code",
   "execution_count": 9,
   "metadata": {
    "scrolled": true
   },
   "outputs": [
    {
     "ename": "HTTPError",
     "evalue": "HTTP Error 404: Not Found",
     "output_type": "error",
     "traceback": [
      "\u001b[1;31m---------------------------------------------------------------------------\u001b[0m",
      "\u001b[1;31mHTTPError\u001b[0m                                 Traceback (most recent call last)",
      "\u001b[1;32m<ipython-input-9-e91c579eb62d>\u001b[0m in \u001b[0;36m<module>\u001b[1;34m\u001b[0m\n\u001b[0;32m      1\u001b[0m \u001b[1;31m# Read Movie data\u001b[0m\u001b[1;33m\u001b[0m\u001b[1;33m\u001b[0m\u001b[1;33m\u001b[0m\u001b[0m\n\u001b[1;32m----> 2\u001b[1;33m \u001b[0mmovielens_itemdata\u001b[0m \u001b[1;33m=\u001b[0m \u001b[0mpd\u001b[0m\u001b[1;33m.\u001b[0m\u001b[0mread_csv\u001b[0m\u001b[1;33m(\u001b[0m\u001b[1;34m\"https://github.com/GurumurthyBisleri/movielensEDAproject/blob/master/item.csv\"\u001b[0m\u001b[1;33m)\u001b[0m\u001b[1;33m\u001b[0m\u001b[1;33m\u001b[0m\u001b[0m\n\u001b[0m        \u001b[1;36mglobal\u001b[0m \u001b[0;36mmovielens_itemdata\u001b[0m \u001b[1;34m= \u001b[1;36mundefined\u001b[0m\u001b[0m\u001b[1;34m\n        \u001b[0m\u001b[1;36mglobal\u001b[0m \u001b[0;36mpd.read_csv\u001b[0m \u001b[1;34m= <function _make_parser_function.<locals>.parser_f at 0x00000163D1C29288>\u001b[0m\n\u001b[0;32m      3\u001b[0m \u001b[1;33m\u001b[0m\u001b[0m\n\u001b[0;32m      4\u001b[0m \u001b[1;31m# Read User Ratings data\u001b[0m\u001b[1;33m\u001b[0m\u001b[1;33m\u001b[0m\u001b[1;33m\u001b[0m\u001b[0m\n\u001b[0;32m      5\u001b[0m \u001b[0mmovielens_ratingsdata\u001b[0m \u001b[1;33m=\u001b[0m \u001b[0mpd\u001b[0m\u001b[1;33m.\u001b[0m\u001b[0mread_csv\u001b[0m\u001b[1;33m(\u001b[0m\u001b[1;34m\"https://github.com/GurumurthyBisleri/movielensEDAproject/blob/master/Data.csv\"\u001b[0m\u001b[1;33m)\u001b[0m\u001b[1;33m\u001b[0m\u001b[1;33m\u001b[0m\u001b[0m\n",
      "\u001b[1;32m~\\Anaconda3\\lib\\site-packages\\pandas\\io\\parsers.py\u001b[0m in \u001b[0;36mparser_f\u001b[1;34m(filepath_or_buffer='https://github.com/GurumurthyBisleri/movielensEDAproject/blob/master/item.csv', sep=',', delimiter=',', header='infer', names=None, index_col=None, usecols=None, squeeze=False, prefix=None, mangle_dupe_cols=True, dtype=None, engine='c', converters=None, true_values=None, false_values=None, skipinitialspace=False, skiprows=None, skipfooter=0, nrows=None, na_values=None, keep_default_na=True, na_filter=True, verbose=False, skip_blank_lines=True, parse_dates=False, infer_datetime_format=False, keep_date_col=False, date_parser=None, dayfirst=False, cache_dates=True, iterator=False, chunksize=None, compression='infer', thousands=None, decimal='.', lineterminator=None, quotechar='\"', quoting=0, doublequote=True, escapechar=None, comment=None, encoding=None, dialect=None, error_bad_lines=True, warn_bad_lines=True, delim_whitespace=False, low_memory=True, memory_map=False, float_precision=None)\u001b[0m\n\u001b[0;32m    674\u001b[0m         )\n\u001b[0;32m    675\u001b[0m \u001b[1;33m\u001b[0m\u001b[0m\n\u001b[1;32m--> 676\u001b[1;33m         \u001b[1;32mreturn\u001b[0m \u001b[0m_read\u001b[0m\u001b[1;33m(\u001b[0m\u001b[0mfilepath_or_buffer\u001b[0m\u001b[1;33m,\u001b[0m \u001b[0mkwds\u001b[0m\u001b[1;33m)\u001b[0m\u001b[1;33m\u001b[0m\u001b[1;33m\u001b[0m\u001b[0m\n\u001b[0m        \u001b[1;36mglobal\u001b[0m \u001b[0;36m_read\u001b[0m \u001b[1;34m= <function _read at 0x00000163D1C29168>\u001b[0m\u001b[1;34m\n        \u001b[0m\u001b[0;36mfilepath_or_buffer\u001b[0m \u001b[1;34m= 'https://github.com/GurumurthyBisleri/movielensEDAproject/blob/master/item.csv'\u001b[0m\u001b[1;34m\n        \u001b[0m\u001b[0;36mkwds\u001b[0m \u001b[1;34m= {'delimiter': ',', 'engine': 'c', 'dialect': None, 'compression': 'infer', 'engine_specified': False, 'doublequote': True, 'escapechar': None, 'quotechar': '\"', 'quoting': 0, 'skipinitialspace': False, 'lineterminator': None, 'header': 'infer', 'index_col': None, 'names': None, 'prefix': None, 'skiprows': None, 'skipfooter': 0, 'na_values': None, 'true_values': None, 'false_values': None, 'keep_default_na': True, 'thousands': None, 'comment': None, 'decimal': '.', 'parse_dates': False, 'keep_date_col': False, 'dayfirst': False, 'date_parser': None, 'cache_dates': True, 'nrows': None, 'iterator': False, 'chunksize': None, 'converters': None, 'dtype': None, 'usecols': None, 'verbose': False, 'encoding': None, 'squeeze': False, 'memory_map': False, 'float_precision': None, 'na_filter': True, 'delim_whitespace': False, 'warn_bad_lines': True, 'error_bad_lines': True, 'low_memory': True, 'mangle_dupe_cols': True, 'infer_datetime_format': False, 'skip_blank_lines': True}\u001b[0m\n\u001b[0;32m    677\u001b[0m \u001b[1;33m\u001b[0m\u001b[0m\n\u001b[0;32m    678\u001b[0m     \u001b[0mparser_f\u001b[0m\u001b[1;33m.\u001b[0m\u001b[0m__name__\u001b[0m \u001b[1;33m=\u001b[0m \u001b[0mname\u001b[0m\u001b[1;33m\u001b[0m\u001b[1;33m\u001b[0m\u001b[0m\n",
      "\u001b[1;32m~\\Anaconda3\\lib\\site-packages\\pandas\\io\\parsers.py\u001b[0m in \u001b[0;36m_read\u001b[1;34m(filepath_or_buffer='https://github.com/GurumurthyBisleri/movielensEDAproject/blob/master/item.csv', kwds={'cache_dates': True, 'chunksize': None, 'comment': None, 'compression': 'infer', 'converters': None, 'date_parser': None, 'dayfirst': False, 'decimal': '.', 'delim_whitespace': False, 'delimiter': ',', ...})\u001b[0m\n\u001b[0;32m    429\u001b[0m     \u001b[1;31m# See https://github.com/python/mypy/issues/1297\u001b[0m\u001b[1;33m\u001b[0m\u001b[1;33m\u001b[0m\u001b[1;33m\u001b[0m\u001b[0m\n\u001b[0;32m    430\u001b[0m     fp_or_buf, _, compression, should_close = get_filepath_or_buffer(\n\u001b[1;32m--> 431\u001b[1;33m         \u001b[0mfilepath_or_buffer\u001b[0m\u001b[1;33m,\u001b[0m \u001b[0mencoding\u001b[0m\u001b[1;33m,\u001b[0m \u001b[0mcompression\u001b[0m\u001b[1;33m\u001b[0m\u001b[1;33m\u001b[0m\u001b[0m\n\u001b[0m        \u001b[0;36mfilepath_or_buffer\u001b[0m \u001b[1;34m= 'https://github.com/GurumurthyBisleri/movielensEDAproject/blob/master/item.csv'\u001b[0m\u001b[1;34m\n        \u001b[0m\u001b[0;36mencoding\u001b[0m \u001b[1;34m= None\u001b[0m\u001b[1;34m\n        \u001b[0m\u001b[0;36mcompression\u001b[0m \u001b[1;34m= None\u001b[0m\n\u001b[0;32m    432\u001b[0m     )\n\u001b[0;32m    433\u001b[0m     \u001b[0mkwds\u001b[0m\u001b[1;33m[\u001b[0m\u001b[1;34m\"compression\"\u001b[0m\u001b[1;33m]\u001b[0m \u001b[1;33m=\u001b[0m \u001b[0mcompression\u001b[0m\u001b[1;33m\u001b[0m\u001b[1;33m\u001b[0m\u001b[0m\n",
      "\u001b[1;32m~\\Anaconda3\\lib\\site-packages\\pandas\\io\\common.py\u001b[0m in \u001b[0;36mget_filepath_or_buffer\u001b[1;34m(filepath_or_buffer='https://github.com/GurumurthyBisleri/movielensEDAproject/blob/master/item.csv', encoding=None, compression=None, mode=None)\u001b[0m\n\u001b[0;32m    170\u001b[0m \u001b[1;33m\u001b[0m\u001b[0m\n\u001b[0;32m    171\u001b[0m     \u001b[1;32mif\u001b[0m \u001b[0misinstance\u001b[0m\u001b[1;33m(\u001b[0m\u001b[0mfilepath_or_buffer\u001b[0m\u001b[1;33m,\u001b[0m \u001b[0mstr\u001b[0m\u001b[1;33m)\u001b[0m \u001b[1;32mand\u001b[0m \u001b[0mis_url\u001b[0m\u001b[1;33m(\u001b[0m\u001b[0mfilepath_or_buffer\u001b[0m\u001b[1;33m)\u001b[0m\u001b[1;33m:\u001b[0m\u001b[1;33m\u001b[0m\u001b[1;33m\u001b[0m\u001b[0m\n\u001b[1;32m--> 172\u001b[1;33m         \u001b[0mreq\u001b[0m \u001b[1;33m=\u001b[0m \u001b[0murlopen\u001b[0m\u001b[1;33m(\u001b[0m\u001b[0mfilepath_or_buffer\u001b[0m\u001b[1;33m)\u001b[0m\u001b[1;33m\u001b[0m\u001b[1;33m\u001b[0m\u001b[0m\n\u001b[0m        \u001b[0;36mreq\u001b[0m \u001b[1;34m= \u001b[1;36mundefined\u001b[0m\u001b[0m\u001b[1;34m\n        \u001b[0m\u001b[1;36mglobal\u001b[0m \u001b[0;36murlopen\u001b[0m \u001b[1;34m= <function urlopen at 0x00000163D19B35E8>\u001b[0m\u001b[1;34m\n        \u001b[0m\u001b[0;36mfilepath_or_buffer\u001b[0m \u001b[1;34m= 'https://github.com/GurumurthyBisleri/movielensEDAproject/blob/master/item.csv'\u001b[0m\n\u001b[0;32m    173\u001b[0m         \u001b[0mcontent_encoding\u001b[0m \u001b[1;33m=\u001b[0m \u001b[0mreq\u001b[0m\u001b[1;33m.\u001b[0m\u001b[0mheaders\u001b[0m\u001b[1;33m.\u001b[0m\u001b[0mget\u001b[0m\u001b[1;33m(\u001b[0m\u001b[1;34m\"Content-Encoding\"\u001b[0m\u001b[1;33m,\u001b[0m \u001b[1;32mNone\u001b[0m\u001b[1;33m)\u001b[0m\u001b[1;33m\u001b[0m\u001b[1;33m\u001b[0m\u001b[0m\n\u001b[0;32m    174\u001b[0m         \u001b[1;32mif\u001b[0m \u001b[0mcontent_encoding\u001b[0m \u001b[1;33m==\u001b[0m \u001b[1;34m\"gzip\"\u001b[0m\u001b[1;33m:\u001b[0m\u001b[1;33m\u001b[0m\u001b[1;33m\u001b[0m\u001b[0m\n",
      "\u001b[1;32m~\\Anaconda3\\lib\\site-packages\\pandas\\io\\common.py\u001b[0m in \u001b[0;36murlopen\u001b[1;34m(*args=('https://github.com/GurumurthyBisleri/movielensEDAproject/blob/master/item.csv',), **kwargs={})\u001b[0m\n\u001b[0;32m    139\u001b[0m     \u001b[1;32mimport\u001b[0m \u001b[0murllib\u001b[0m\u001b[1;33m.\u001b[0m\u001b[0mrequest\u001b[0m\u001b[1;33m\u001b[0m\u001b[1;33m\u001b[0m\u001b[0m\n\u001b[0;32m    140\u001b[0m \u001b[1;33m\u001b[0m\u001b[0m\n\u001b[1;32m--> 141\u001b[1;33m     \u001b[1;32mreturn\u001b[0m \u001b[0murllib\u001b[0m\u001b[1;33m.\u001b[0m\u001b[0mrequest\u001b[0m\u001b[1;33m.\u001b[0m\u001b[0murlopen\u001b[0m\u001b[1;33m(\u001b[0m\u001b[1;33m*\u001b[0m\u001b[0margs\u001b[0m\u001b[1;33m,\u001b[0m \u001b[1;33m**\u001b[0m\u001b[0mkwargs\u001b[0m\u001b[1;33m)\u001b[0m\u001b[1;33m\u001b[0m\u001b[1;33m\u001b[0m\u001b[0m\n\u001b[0m        \u001b[0;36murllib.request.urlopen\u001b[0m \u001b[1;34m= <function urlopen at 0x00000163CEEB5D38>\u001b[0m\u001b[1;34m\n        \u001b[0m\u001b[0;36margs\u001b[0m \u001b[1;34m= ('https://github.com/GurumurthyBisleri/movielensEDAproject/blob/master/item.csv',)\u001b[0m\u001b[1;34m\n        \u001b[0m\u001b[0;36mkwargs\u001b[0m \u001b[1;34m= {}\u001b[0m\n\u001b[0;32m    142\u001b[0m \u001b[1;33m\u001b[0m\u001b[0m\n\u001b[0;32m    143\u001b[0m \u001b[1;33m\u001b[0m\u001b[0m\n",
      "\u001b[1;32m~\\Anaconda3\\lib\\urllib\\request.py\u001b[0m in \u001b[0;36murlopen\u001b[1;34m(url='https://github.com/GurumurthyBisleri/movielensEDAproject/blob/master/item.csv', data=None, timeout=<object object>, cafile=None, capath=None, cadefault=False, context=None)\u001b[0m\n\u001b[0;32m    220\u001b[0m     \u001b[1;32melse\u001b[0m\u001b[1;33m:\u001b[0m\u001b[1;33m\u001b[0m\u001b[1;33m\u001b[0m\u001b[0m\n\u001b[0;32m    221\u001b[0m         \u001b[0mopener\u001b[0m \u001b[1;33m=\u001b[0m \u001b[0m_opener\u001b[0m\u001b[1;33m\u001b[0m\u001b[1;33m\u001b[0m\u001b[0m\n\u001b[1;32m--> 222\u001b[1;33m     \u001b[1;32mreturn\u001b[0m \u001b[0mopener\u001b[0m\u001b[1;33m.\u001b[0m\u001b[0mopen\u001b[0m\u001b[1;33m(\u001b[0m\u001b[0murl\u001b[0m\u001b[1;33m,\u001b[0m \u001b[0mdata\u001b[0m\u001b[1;33m,\u001b[0m \u001b[0mtimeout\u001b[0m\u001b[1;33m)\u001b[0m\u001b[1;33m\u001b[0m\u001b[1;33m\u001b[0m\u001b[0m\n\u001b[0m        \u001b[0;36mopener.open\u001b[0m \u001b[1;34m= <bound method OpenerDirector.open of <urllib.request.OpenerDirector object at 0x00000163D4B95548>>\u001b[0m\u001b[1;34m\n        \u001b[0m\u001b[0;36murl\u001b[0m \u001b[1;34m= 'https://github.com/GurumurthyBisleri/movielensEDAproject/blob/master/item.csv'\u001b[0m\u001b[1;34m\n        \u001b[0m\u001b[0;36mdata\u001b[0m \u001b[1;34m= None\u001b[0m\u001b[1;34m\n        \u001b[0m\u001b[0;36mtimeout\u001b[0m \u001b[1;34m= <object object at 0x00000163CE509080>\u001b[0m\n\u001b[0;32m    223\u001b[0m \u001b[1;33m\u001b[0m\u001b[0m\n\u001b[0;32m    224\u001b[0m \u001b[1;32mdef\u001b[0m \u001b[0minstall_opener\u001b[0m\u001b[1;33m(\u001b[0m\u001b[0mopener\u001b[0m\u001b[1;33m)\u001b[0m\u001b[1;33m:\u001b[0m\u001b[1;33m\u001b[0m\u001b[1;33m\u001b[0m\u001b[0m\n",
      "\u001b[1;32m~\\Anaconda3\\lib\\urllib\\request.py\u001b[0m in \u001b[0;36mopen\u001b[1;34m(self=<urllib.request.OpenerDirector object>, fullurl='https://github.com/GurumurthyBisleri/movielensEDAproject/blob/master/item.csv', data=None, timeout=<object object>)\u001b[0m\n\u001b[0;32m    529\u001b[0m         \u001b[1;32mfor\u001b[0m \u001b[0mprocessor\u001b[0m \u001b[1;32min\u001b[0m \u001b[0mself\u001b[0m\u001b[1;33m.\u001b[0m\u001b[0mprocess_response\u001b[0m\u001b[1;33m.\u001b[0m\u001b[0mget\u001b[0m\u001b[1;33m(\u001b[0m\u001b[0mprotocol\u001b[0m\u001b[1;33m,\u001b[0m \u001b[1;33m[\u001b[0m\u001b[1;33m]\u001b[0m\u001b[1;33m)\u001b[0m\u001b[1;33m:\u001b[0m\u001b[1;33m\u001b[0m\u001b[1;33m\u001b[0m\u001b[0m\n\u001b[0;32m    530\u001b[0m             \u001b[0mmeth\u001b[0m \u001b[1;33m=\u001b[0m \u001b[0mgetattr\u001b[0m\u001b[1;33m(\u001b[0m\u001b[0mprocessor\u001b[0m\u001b[1;33m,\u001b[0m \u001b[0mmeth_name\u001b[0m\u001b[1;33m)\u001b[0m\u001b[1;33m\u001b[0m\u001b[1;33m\u001b[0m\u001b[0m\n\u001b[1;32m--> 531\u001b[1;33m             \u001b[0mresponse\u001b[0m \u001b[1;33m=\u001b[0m \u001b[0mmeth\u001b[0m\u001b[1;33m(\u001b[0m\u001b[0mreq\u001b[0m\u001b[1;33m,\u001b[0m \u001b[0mresponse\u001b[0m\u001b[1;33m)\u001b[0m\u001b[1;33m\u001b[0m\u001b[1;33m\u001b[0m\u001b[0m\n\u001b[0m        \u001b[0;36mresponse\u001b[0m \u001b[1;34m= <http.client.HTTPResponse object at 0x00000163D4D48E48>\u001b[0m\u001b[1;34m\n        \u001b[0m\u001b[0;36mmeth\u001b[0m \u001b[1;34m= <bound method HTTPErrorProcessor.http_response of <urllib.request.HTTPErrorProcessor object at 0x00000163D4B95F08>>\u001b[0m\u001b[1;34m\n        \u001b[0m\u001b[0;36mreq\u001b[0m \u001b[1;34m= <urllib.request.Request object at 0x00000163D4D483C8>\u001b[0m\n\u001b[0;32m    532\u001b[0m \u001b[1;33m\u001b[0m\u001b[0m\n\u001b[0;32m    533\u001b[0m         \u001b[1;32mreturn\u001b[0m \u001b[0mresponse\u001b[0m\u001b[1;33m\u001b[0m\u001b[1;33m\u001b[0m\u001b[0m\n",
      "\u001b[1;32m~\\Anaconda3\\lib\\urllib\\request.py\u001b[0m in \u001b[0;36mhttp_response\u001b[1;34m(self=<urllib.request.HTTPErrorProcessor object>, request=<urllib.request.Request object>, response=<http.client.HTTPResponse object>)\u001b[0m\n\u001b[0;32m    639\u001b[0m         \u001b[1;32mif\u001b[0m \u001b[1;32mnot\u001b[0m \u001b[1;33m(\u001b[0m\u001b[1;36m200\u001b[0m \u001b[1;33m<=\u001b[0m \u001b[0mcode\u001b[0m \u001b[1;33m<\u001b[0m \u001b[1;36m300\u001b[0m\u001b[1;33m)\u001b[0m\u001b[1;33m:\u001b[0m\u001b[1;33m\u001b[0m\u001b[1;33m\u001b[0m\u001b[0m\n\u001b[0;32m    640\u001b[0m             response = self.parent.error(\n\u001b[1;32m--> 641\u001b[1;33m                 'http', request, response, code, msg, hdrs)\n\u001b[0m        \u001b[0;36mrequest\u001b[0m \u001b[1;34m= <urllib.request.Request object at 0x00000163D4D483C8>\u001b[0m\u001b[1;34m\n        \u001b[0m\u001b[0;36mresponse\u001b[0m \u001b[1;34m= <http.client.HTTPResponse object at 0x00000163D4D48E48>\u001b[0m\u001b[1;34m\n        \u001b[0m\u001b[0;36mcode\u001b[0m \u001b[1;34m= 404\u001b[0m\u001b[1;34m\n        \u001b[0m\u001b[0;36mmsg\u001b[0m \u001b[1;34m= 'Not Found'\u001b[0m\u001b[1;34m\n        \u001b[0m\u001b[0;36mhdrs\u001b[0m \u001b[1;34m= <http.client.HTTPMessage object at 0x00000163D4D41808>\u001b[0m\n\u001b[0;32m    642\u001b[0m \u001b[1;33m\u001b[0m\u001b[0m\n\u001b[0;32m    643\u001b[0m         \u001b[1;32mreturn\u001b[0m \u001b[0mresponse\u001b[0m\u001b[1;33m\u001b[0m\u001b[1;33m\u001b[0m\u001b[0m\n",
      "\u001b[1;32m~\\Anaconda3\\lib\\urllib\\request.py\u001b[0m in \u001b[0;36merror\u001b[1;34m(self=<urllib.request.OpenerDirector object>, proto=404, *args=({'default': [<urllib.request.HTTPDefaultErrorHandler object>], 301: [<urllib.request.HTTPRedirectHandler object>], 302: [<urllib.request.HTTPRedirectHandler object>], 303: [<urllib.request.HTTPRedirectHandler object>], 307: [<urllib.request.HTTPRedirectHandler object>]}, 'default', 'http_error_default', <urllib.request.Request object>, <http.client.HTTPResponse object>, 404, 'Not Found', <http.client.HTTPMessage object>))\u001b[0m\n\u001b[0;32m    567\u001b[0m         \u001b[1;32mif\u001b[0m \u001b[0mhttp_err\u001b[0m\u001b[1;33m:\u001b[0m\u001b[1;33m\u001b[0m\u001b[1;33m\u001b[0m\u001b[0m\n\u001b[0;32m    568\u001b[0m             \u001b[0margs\u001b[0m \u001b[1;33m=\u001b[0m \u001b[1;33m(\u001b[0m\u001b[0mdict\u001b[0m\u001b[1;33m,\u001b[0m \u001b[1;34m'default'\u001b[0m\u001b[1;33m,\u001b[0m \u001b[1;34m'http_error_default'\u001b[0m\u001b[1;33m)\u001b[0m \u001b[1;33m+\u001b[0m \u001b[0morig_args\u001b[0m\u001b[1;33m\u001b[0m\u001b[1;33m\u001b[0m\u001b[0m\n\u001b[1;32m--> 569\u001b[1;33m             \u001b[1;32mreturn\u001b[0m \u001b[0mself\u001b[0m\u001b[1;33m.\u001b[0m\u001b[0m_call_chain\u001b[0m\u001b[1;33m(\u001b[0m\u001b[1;33m*\u001b[0m\u001b[0margs\u001b[0m\u001b[1;33m)\u001b[0m\u001b[1;33m\u001b[0m\u001b[1;33m\u001b[0m\u001b[0m\n\u001b[0m        \u001b[0;36mself._call_chain\u001b[0m \u001b[1;34m= <bound method OpenerDirector._call_chain of <urllib.request.OpenerDirector object at 0x00000163D4B95548>>\u001b[0m\u001b[1;34m\n        \u001b[0m\u001b[0;36margs\u001b[0m \u001b[1;34m= ({'default': [<urllib.request.HTTPDefaultErrorHandler object at 0x00000163D4B95D48>], 301: [<urllib.request.HTTPRedirectHandler object at 0x00000163D36ADA48>], 302: [<urllib.request.HTTPRedirectHandler object at 0x00000163D36ADA48>], 303: [<urllib.request.HTTPRedirectHandler object at 0x00000163D36ADA48>], 307: [<urllib.request.HTTPRedirectHandler object at 0x00000163D36ADA48>]}, 'default', 'http_error_default', <urllib.request.Request object at 0x00000163D4D483C8>, <http.client.HTTPResponse object at 0x00000163D4D48E48>, 404, 'Not Found', <http.client.HTTPMessage object at 0x00000163D4D41808>)\u001b[0m\n\u001b[0;32m    570\u001b[0m \u001b[1;33m\u001b[0m\u001b[0m\n\u001b[0;32m    571\u001b[0m \u001b[1;31m# XXX probably also want an abstract factory that knows when it makes\u001b[0m\u001b[1;33m\u001b[0m\u001b[1;33m\u001b[0m\u001b[1;33m\u001b[0m\u001b[0m\n",
      "\u001b[1;32m~\\Anaconda3\\lib\\urllib\\request.py\u001b[0m in \u001b[0;36m_call_chain\u001b[1;34m(self=<urllib.request.OpenerDirector object>, chain={'default': [<urllib.request.HTTPDefaultErrorHandler object>], 301: [<urllib.request.HTTPRedirectHandler object>], 302: [<urllib.request.HTTPRedirectHandler object>], 303: [<urllib.request.HTTPRedirectHandler object>], 307: [<urllib.request.HTTPRedirectHandler object>]}, kind='default', meth_name='http_error_default', *args=(<urllib.request.Request object>, <http.client.HTTPResponse object>, 404, 'Not Found', <http.client.HTTPMessage object>))\u001b[0m\n\u001b[0;32m    501\u001b[0m         \u001b[1;32mfor\u001b[0m \u001b[0mhandler\u001b[0m \u001b[1;32min\u001b[0m \u001b[0mhandlers\u001b[0m\u001b[1;33m:\u001b[0m\u001b[1;33m\u001b[0m\u001b[1;33m\u001b[0m\u001b[0m\n\u001b[0;32m    502\u001b[0m             \u001b[0mfunc\u001b[0m \u001b[1;33m=\u001b[0m \u001b[0mgetattr\u001b[0m\u001b[1;33m(\u001b[0m\u001b[0mhandler\u001b[0m\u001b[1;33m,\u001b[0m \u001b[0mmeth_name\u001b[0m\u001b[1;33m)\u001b[0m\u001b[1;33m\u001b[0m\u001b[1;33m\u001b[0m\u001b[0m\n\u001b[1;32m--> 503\u001b[1;33m             \u001b[0mresult\u001b[0m \u001b[1;33m=\u001b[0m \u001b[0mfunc\u001b[0m\u001b[1;33m(\u001b[0m\u001b[1;33m*\u001b[0m\u001b[0margs\u001b[0m\u001b[1;33m)\u001b[0m\u001b[1;33m\u001b[0m\u001b[1;33m\u001b[0m\u001b[0m\n\u001b[0m        \u001b[0;36mresult\u001b[0m \u001b[1;34m= \u001b[1;36mundefined\u001b[0m\u001b[0m\u001b[1;34m\n        \u001b[0m\u001b[0;36mfunc\u001b[0m \u001b[1;34m= <bound method HTTPDefaultErrorHandler.http_error_default of <urllib.request.HTTPDefaultErrorHandler object at 0x00000163D4B95D48>>\u001b[0m\u001b[1;34m\n        \u001b[0m\u001b[0;36margs\u001b[0m \u001b[1;34m= (<urllib.request.Request object at 0x00000163D4D483C8>, <http.client.HTTPResponse object at 0x00000163D4D48E48>, 404, 'Not Found', <http.client.HTTPMessage object at 0x00000163D4D41808>)\u001b[0m\n\u001b[0;32m    504\u001b[0m             \u001b[1;32mif\u001b[0m \u001b[0mresult\u001b[0m \u001b[1;32mis\u001b[0m \u001b[1;32mnot\u001b[0m \u001b[1;32mNone\u001b[0m\u001b[1;33m:\u001b[0m\u001b[1;33m\u001b[0m\u001b[1;33m\u001b[0m\u001b[0m\n\u001b[0;32m    505\u001b[0m                 \u001b[1;32mreturn\u001b[0m \u001b[0mresult\u001b[0m\u001b[1;33m\u001b[0m\u001b[1;33m\u001b[0m\u001b[0m\n",
      "\u001b[1;32m~\\Anaconda3\\lib\\urllib\\request.py\u001b[0m in \u001b[0;36mhttp_error_default\u001b[1;34m(self=<urllib.request.HTTPDefaultErrorHandler object>, req=<urllib.request.Request object>, fp=<http.client.HTTPResponse object>, code=404, msg='Not Found', hdrs=<http.client.HTTPMessage object>)\u001b[0m\n\u001b[0;32m    647\u001b[0m \u001b[1;32mclass\u001b[0m \u001b[0mHTTPDefaultErrorHandler\u001b[0m\u001b[1;33m(\u001b[0m\u001b[0mBaseHandler\u001b[0m\u001b[1;33m)\u001b[0m\u001b[1;33m:\u001b[0m\u001b[1;33m\u001b[0m\u001b[1;33m\u001b[0m\u001b[0m\n\u001b[0;32m    648\u001b[0m     \u001b[1;32mdef\u001b[0m \u001b[0mhttp_error_default\u001b[0m\u001b[1;33m(\u001b[0m\u001b[0mself\u001b[0m\u001b[1;33m,\u001b[0m \u001b[0mreq\u001b[0m\u001b[1;33m,\u001b[0m \u001b[0mfp\u001b[0m\u001b[1;33m,\u001b[0m \u001b[0mcode\u001b[0m\u001b[1;33m,\u001b[0m \u001b[0mmsg\u001b[0m\u001b[1;33m,\u001b[0m \u001b[0mhdrs\u001b[0m\u001b[1;33m)\u001b[0m\u001b[1;33m:\u001b[0m\u001b[1;33m\u001b[0m\u001b[1;33m\u001b[0m\u001b[0m\n\u001b[1;32m--> 649\u001b[1;33m         \u001b[1;32mraise\u001b[0m \u001b[0mHTTPError\u001b[0m\u001b[1;33m(\u001b[0m\u001b[0mreq\u001b[0m\u001b[1;33m.\u001b[0m\u001b[0mfull_url\u001b[0m\u001b[1;33m,\u001b[0m \u001b[0mcode\u001b[0m\u001b[1;33m,\u001b[0m \u001b[0mmsg\u001b[0m\u001b[1;33m,\u001b[0m \u001b[0mhdrs\u001b[0m\u001b[1;33m,\u001b[0m \u001b[0mfp\u001b[0m\u001b[1;33m)\u001b[0m\u001b[1;33m\u001b[0m\u001b[1;33m\u001b[0m\u001b[0m\n\u001b[0m        \u001b[1;36mglobal\u001b[0m \u001b[0;36mHTTPError\u001b[0m \u001b[1;34m= <class 'urllib.error.HTTPError'>\u001b[0m\u001b[1;34m\n        \u001b[0m\u001b[0;36mreq.full_url\u001b[0m \u001b[1;34m= 'https://github.com/GurumurthyBisleri/movielensEDAproject/blob/master/item.csv'\u001b[0m\u001b[1;34m\n        \u001b[0m\u001b[0;36mcode\u001b[0m \u001b[1;34m= 404\u001b[0m\u001b[1;34m\n        \u001b[0m\u001b[0;36mmsg\u001b[0m \u001b[1;34m= 'Not Found'\u001b[0m\u001b[1;34m\n        \u001b[0m\u001b[0;36mhdrs\u001b[0m \u001b[1;34m= <http.client.HTTPMessage object at 0x00000163D4D41808>\u001b[0m\u001b[1;34m\n        \u001b[0m\u001b[0;36mfp\u001b[0m \u001b[1;34m= <http.client.HTTPResponse object at 0x00000163D4D48E48>\u001b[0m\n\u001b[0;32m    650\u001b[0m \u001b[1;33m\u001b[0m\u001b[0m\n\u001b[0;32m    651\u001b[0m \u001b[1;32mclass\u001b[0m \u001b[0mHTTPRedirectHandler\u001b[0m\u001b[1;33m(\u001b[0m\u001b[0mBaseHandler\u001b[0m\u001b[1;33m)\u001b[0m\u001b[1;33m:\u001b[0m\u001b[1;33m\u001b[0m\u001b[1;33m\u001b[0m\u001b[0m\n",
      "\u001b[1;31mHTTPError\u001b[0m: HTTP Error 404: Not Found"
     ]
    }
   ],
   "source": [
    "# Read Movie data\n",
    "movielens_itemdata = pd.read_csv(\"https://github.com/GurumurthyBisleri/movielensEDAproject/blob/master/item.csv\")\n",
    "\n",
    "# Read User Ratings data\n",
    "movielens_ratingsdata = pd.read_csv(\"https://github.com/GurumurthyBisleri/movielensEDAproject/blob/master/Data.csv\")\n",
    "\n",
    "# Read User data\n",
    "movielens_userdata = pd.read_csv(\"https://github.com/GurumurthyBisleri/movielensEDAproject/blob/master/user.csv\")"
   ]
  },
  {
   "cell_type": "markdown",
   "metadata": {},
   "source": [
    "#### 3. Apply info, shape, describe, and find the number of missing values in the data - 5 marks"
   ]
  },
  {
   "cell_type": "code",
   "execution_count": null,
   "metadata": {},
   "outputs": [],
   "source": [
    "# Info, shape, describe and missing values details in Movie data (item.csv)\n",
    "movielens_itemdata.info()\n",
    "np.shape(movielens_itemdata)\n",
    "movielens_itemdata.describe()\n",
    "missingvalues_itemdata = movielens_itemdata.isnull().sum()\n",
    "print(\"Number of missing values in Movie data: \\n\" ,missingvalues_itemdata)\n",
    "\n",
    "# Info, shape, describe and missing values details in rating data (data.csv)\n",
    "movielens_ratingsdata.info()\n",
    "np.shape(movielens_ratingsdata)\n",
    "movielens_ratingsdata.describe()\n",
    "missingvalues_data = movielens_ratingsdata.isnull().sum()\n",
    "print(\"Number of missing values in User Ratings data:\\n\" ,missingvalues_data)\n",
    "\n",
    "# Info, shape, describe and missing values details in user data (user.csv)\n",
    "movielens_userdata.info()\n",
    "np.shape(movielens_userdata)\n",
    "movielens_userdata.describe()\n",
    "missingvalues_userdata = movielens_userdata.isnull().sum()\n",
    "print(\"Number of missing values in User data:\\n\", missingvalues_userdata)"
   ]
  },
  {
   "cell_type": "markdown",
   "metadata": {},
   "source": [
    "#### 4. Find the number of movies per genre using the item data - 5 marks"
   ]
  },
  {
   "cell_type": "code",
   "execution_count": null,
   "metadata": {
    "scrolled": true
   },
   "outputs": [],
   "source": [
    "# First 3 columns ('movie id', 'movie title' & 'release date') in item sheet are not genre so they have been excluded using loc \n",
    "number_movies = movielens_itemdata.loc[:,'unknown':'Western'].sum()\n",
    "print(\"Number of movies per genre:\\n\",number_movies)"
   ]
  },
  {
   "cell_type": "markdown",
   "metadata": {},
   "source": [
    "#### 5. Find the movies that have more than one genre - 2.5 marks"
   ]
  },
  {
   "cell_type": "code",
   "execution_count": null,
   "metadata": {},
   "outputs": [],
   "source": [
    "# Excluded 'movie id' column by dropping from dataframe which is not required while summing up the rows \n",
    "movielens_drop = movielens_itemdata.drop(['movie id'], axis =1)\n",
    "movielens_drop['sum_row'] = movielens_drop.sum( axis=1 )\n",
    "movielens_drop[movielens_drop.sum_row >1]"
   ]
  },
  {
   "cell_type": "markdown",
   "metadata": {},
   "source": [
    "#### 6. Drop the movie where the genre is unknown - 2.5 marks"
   ]
  },
  {
   "cell_type": "code",
   "execution_count": null,
   "metadata": {},
   "outputs": [],
   "source": [
    "# dropped the movie with unkown genre and printed the len before and after \n",
    "len1 = len(movielens_itemdata)\n",
    "print(\"Length before dropping\", len1)\n",
    "movielens_itemdata = movielens_itemdata.drop(movielens_itemdata[movielens_itemdata.unknown == 1].index)\n",
    "print(\"Length after dropping\", len(movielens_itemdata))"
   ]
  },
  {
   "cell_type": "markdown",
   "metadata": {},
   "source": [
    "### 7. Univariate plots of columns: 'rating', 'Age', 'release year', 'Gender' and 'Occupation' - 10 marks"
   ]
  },
  {
   "cell_type": "code",
   "execution_count": null,
   "metadata": {},
   "outputs": [],
   "source": [
    "# Univariate plot of columns 'ratings' from user rating data file\n",
    "sns.countplot(movielens_ratingsdata['rating'])"
   ]
  },
  {
   "cell_type": "code",
   "execution_count": null,
   "metadata": {},
   "outputs": [],
   "source": [
    "# Univariate plot of columns 'age' from user data file\n",
    "sns.distplot(movielens_userdata['age'])"
   ]
  },
  {
   "cell_type": "code",
   "execution_count": null,
   "metadata": {},
   "outputs": [],
   "source": [
    "# plot of based on release year from item data file\n",
    "movielens_itemdata['release date'].str.slice(7,11).value_counts().sort_index().plot()"
   ]
  },
  {
   "cell_type": "code",
   "execution_count": null,
   "metadata": {},
   "outputs": [],
   "source": [
    "# Univariate plot of columns 'gender' from user data file\n",
    "sns.countplot(movielens_userdata['gender'])"
   ]
  },
  {
   "cell_type": "code",
   "execution_count": null,
   "metadata": {},
   "outputs": [],
   "source": [
    "# Univariate plot of columns 'occupation' from user data file\n",
    "sns.countplot(movielens_userdata['occupation'])"
   ]
  },
  {
   "cell_type": "markdown",
   "metadata": {},
   "source": [
    "### 8. Visualize how popularity of genres has changed over the years - 10 marks\n",
    "\n",
    "Note that you need to use the number of releases in a year as a parameter of popularity of a genre"
   ]
  },
  {
   "cell_type": "markdown",
   "metadata": {},
   "source": [
    "Hint \n",
    "\n",
    "1: you need to reach to a data frame where the release year is the index and the genre is the column names (one cell shows the number of release in a year in one genre) or vice versa.\n",
    "Once that is achieved, you can either use univariate plots or can use the heatmap to visualise all the changes over the years \n",
    "in one go. \n",
    "\n",
    "Hint 2: Use groupby on the relevant column and use sum() on the same to find out the nuumber of releases in a year/genre.  "
   ]
  },
  {
   "cell_type": "code",
   "execution_count": null,
   "metadata": {},
   "outputs": [],
   "source": [
    "movielens_itemdata['release year'] = movielens_itemdata['release date'].str[-2:]\n",
    "sum1 = movielens_itemdata.groupby('release year').sum().sort_values('release year', ascending=False)\n",
    "sns.heatmap(sum1, vmin=0, vmax=1, cmap='BuPu')"
   ]
  },
  {
   "cell_type": "markdown",
   "metadata": {},
   "source": [
    "### 9. Find the top 25 movies according to average ratings such that each movie has number of ratings more than 100 - 10 marks\n",
    "\n",
    "Hint : \n",
    "1. First find the movies that have more than 100 ratings(use merge, groupby and count). Extract the movie titles in a list.\n",
    "2. Find the average rating of all the movies and sort them in the descending order. You will have to use the .merge() function to reach to a data set through which you can get the names and the average rating.\n",
    "3. Use isin(list obtained from 1) to filter out the movies which have more than 100 ratings.\n",
    "\n",
    "Note: This question will need you to research about groupby and apply your findings. You can find more on groupby on https://realpython.com/pandas-groupby/."
   ]
  },
  {
   "cell_type": "code",
   "execution_count": null,
   "metadata": {},
   "outputs": [],
   "source": [
    "movielens_ratings = pd.merge(movielens_itemdata, movielens_ratingsdata)\n",
    "movielens_ratings.groupby('movie title').count()\n",
    "movielens_lens = pd.merge(movielens_ratings, movielens_userdata)\n",
    "most_rated = movielens_lens.groupby('movie title').size().sort_values(ascending=False)[:25]\n",
    "print(\"Top 25 movies with number of ratings more than 100\", most_rated)"
   ]
  },
  {
   "cell_type": "markdown",
   "metadata": {},
   "source": [
    "### 10. See gender distribution across different genres check for the validity of the below statements - 10 marks\n",
    "\n",
    "* Men watch more drama than women\n",
    "* Women watch more Sci-Fi than men\n",
    "* Men watch more Romance than women\n"
   ]
  },
  {
   "cell_type": "markdown",
   "metadata": {},
   "source": [
    "1. There is no need to conduct statistical tests around this. Just compare the percentages and comment on the validity of the above statements.\n",
    "\n",
    "2. you might want ot use the .sum(), .div() function here.\n",
    "3. Use number of ratings to validate the numbers. For example, if out of 4000 ratings received by women, 3000 are for drama, we will assume that 75% of the women watch drama."
   ]
  },
  {
   "cell_type": "markdown",
   "metadata": {},
   "source": [
    "#### Conclusion:\n",
    "\n"
   ]
  },
  {
   "cell_type": "code",
   "execution_count": null,
   "metadata": {},
   "outputs": [],
   "source": [
    "movielens_ratings = pd.merge(movielens_itemdata, movielens_ratingsdata)\n",
    "movielens_lens = pd.merge(movielens_ratings, movielens_userdata)\n",
    "\n",
    "gender_ratings_drama1 = movielens_lens.pivot_table('Drama', index ='gender')\n",
    "print(gender_ratings_drama1,\"\\n\")\n",
    "\n",
    "gender_ratings_SciFi = movielens_lens.pivot_table('Sci-Fi', index ='gender')\n",
    "print(gender_ratings_SciFi,\"\\n\")\n",
    "\n",
    "gender_ratings_Romance = movielens_lens.pivot_table('Romance', index ='gender')\n",
    "print(gender_ratings_Romance)"
   ]
  },
  {
   "cell_type": "code",
   "execution_count": null,
   "metadata": {},
   "outputs": [],
   "source": [
    "'''\n",
    "Based on above analysis\n",
    "\n",
    "a. We can see 'Men watch more drama than women' is false. It's other way around that more Women watch Drama movie than Men \n",
    "\n",
    "b. We can see 'Women watch more Sci-Fi than men' is false. It's other way around that more Men watch Sci-Fi movie than Women\n",
    "\n",
    "c. We can see 'Men watch more Romance than women' is fale. It's other way around that more Women watch Romance movie than Women \n",
    "\n",
    "'''"
   ]
  },
  {
   "cell_type": "code",
   "execution_count": null,
   "metadata": {},
   "outputs": [],
   "source": []
  },
  {
   "cell_type": "code",
   "execution_count": null,
   "metadata": {},
   "outputs": [],
   "source": []
  }
 ],
 "metadata": {
  "kernelspec": {
   "display_name": "Python 3",
   "language": "python",
   "name": "python3"
  },
  "language_info": {
   "codemirror_mode": {
    "name": "ipython",
    "version": 3
   },
   "file_extension": ".py",
   "mimetype": "text/x-python",
   "name": "python",
   "nbconvert_exporter": "python",
   "pygments_lexer": "ipython3",
   "version": "3.7.6"
  }
 },
 "nbformat": 4,
 "nbformat_minor": 4
}
