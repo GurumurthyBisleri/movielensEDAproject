{
 "cells": [
  {
   "cell_type": "markdown",
   "metadata": {},
   "source": [
    "### Project - MovieLens Data Analysis\n",
    "\n",
    "The GroupLens Research Project is a research group in the Department of Computer Science and Engineering at the University of Minnesota. The data is widely used for collaborative filtering and other filtering solutions. However, we will be using this data to act as a means to demonstrate our skill in using Python to “play” with data.\n",
    "\n",
    "#### Domain \n",
    "Internet and Entertainment\n",
    "\n",
    "**Note that the project will need you to apply the concepts of groupby and merging extensively.**"
   ]
  },
  {
   "cell_type": "code",
   "execution_count": null,
   "metadata": {},
   "outputs": [],
   "source": [
    "'''This is MovieLens Data Analysis project primarily using Python Numpy, Pandas and Seaborn packages'''"
   ]
  },
  {
   "cell_type": "markdown",
   "metadata": {},
   "source": [
    "#### 1. Import the necessary packages - 2.5 marks"
   ]
  },
  {
   "cell_type": "code",
   "execution_count": null,
   "metadata": {},
   "outputs": [],
   "source": [
    "import numpy as np\n",
    "import pandas as pd\n",
    "import seaborn as sns\n",
    "%matplotlib inline\n",
    "sns.set_style(style='darkgrid') # setting background for graphs to have a better view"
   ]
  },
  {
   "cell_type": "markdown",
   "metadata": {},
   "source": [
    "#### 2. Read the 3 datasets into dataframes - 2.5 marks"
   ]
  },
  {
   "cell_type": "code",
   "execution_count": null,
   "metadata": {
    "scrolled": true
   },
   "outputs": [],
   "source": [
    "# Read Movie data\n",
    "movielens_itemdata = pd.read_csv(\"https://github.com/GurumurthyBisleri/movielensEDAproject/blob/master/item.csv\")\n",
    "\n",
    "# Read User Ratings data\n",
    "movielens_ratingsdata = pd.read_csv(\"https://github.com/GurumurthyBisleri/movielensEDAproject/blob/master/Data.csv\")\n",
    "\n",
    "# Read User data\n",
    "movielens_userdata = pd.read_csv(\"https://github.com/GurumurthyBisleri/movielensEDAproject/blob/master/user.csv\")"
   ]
  },
  {
   "cell_type": "markdown",
   "metadata": {},
   "source": [
    "#### 3. Apply info, shape, describe, and find the number of missing values in the data - 5 marks"
   ]
  },
  {
   "cell_type": "code",
   "execution_count": null,
   "metadata": {},
   "outputs": [],
   "source": [
    "# Info, shape, describe and missing values details in Movie data (item.csv)\n",
    "movielens_itemdata.info()\n",
    "np.shape(movielens_itemdata)\n",
    "movielens_itemdata.describe()\n",
    "missingvalues_itemdata = movielens_itemdata.isnull().sum()\n",
    "print(\"Number of missing values in Movie data: \\n\" ,missingvalues_itemdata)\n",
    "\n",
    "# Info, shape, describe and missing values details in rating data (data.csv)\n",
    "movielens_ratingsdata.info()\n",
    "np.shape(movielens_ratingsdata)\n",
    "movielens_ratingsdata.describe()\n",
    "missingvalues_data = movielens_ratingsdata.isnull().sum()\n",
    "print(\"Number of missing values in User Ratings data:\\n\" ,missingvalues_data)\n",
    "\n",
    "# Info, shape, describe and missing values details in user data (user.csv)\n",
    "movielens_userdata.info()\n",
    "np.shape(movielens_userdata)\n",
    "movielens_userdata.describe()\n",
    "missingvalues_userdata = movielens_userdata.isnull().sum()\n",
    "print(\"Number of missing values in User data:\\n\", missingvalues_userdata)"
   ]
  },
  {
   "cell_type": "markdown",
   "metadata": {},
   "source": [
    "#### 4. Find the number of movies per genre using the item data - 5 marks"
   ]
  },
  {
   "cell_type": "code",
   "execution_count": null,
   "metadata": {
    "scrolled": true
   },
   "outputs": [],
   "source": [
    "# First 3 columns ('movie id', 'movie title' & 'release date') in item sheet are not genre so they have been excluded using loc \n",
    "number_movies = movielens_itemdata.loc[:,'unknown':'Western'].sum()\n",
    "print(\"Number of movies per genre:\\n\",number_movies)"
   ]
  },
  {
   "cell_type": "markdown",
   "metadata": {},
   "source": [
    "#### 5. Find the movies that have more than one genre - 2.5 marks"
   ]
  },
  {
   "cell_type": "code",
   "execution_count": null,
   "metadata": {},
   "outputs": [],
   "source": [
    "# Excluded 'movie id' column by dropping from dataframe which is not required while summing up the rows \n",
    "movielens_drop = movielens_itemdata.drop(['movie id'], axis =1)\n",
    "movielens_drop['sum_row'] = movielens_drop.sum( axis=1 )\n",
    "movielens_drop[movielens_drop.sum_row >1]"
   ]
  },
  {
   "cell_type": "markdown",
   "metadata": {},
   "source": [
    "#### 6. Drop the movie where the genre is unknown - 2.5 marks"
   ]
  },
  {
   "cell_type": "code",
   "execution_count": null,
   "metadata": {},
   "outputs": [],
   "source": [
    "# dropped the movie with unkown genre and printed the len before and after \n",
    "len1 = len(movielens_itemdata)\n",
    "print(\"Length before dropping\", len1)\n",
    "movielens_itemdata = movielens_itemdata.drop(movielens_itemdata[movielens_itemdata.unknown == 1].index)\n",
    "print(\"Length after dropping\", len(movielens_itemdata))"
   ]
  },
  {
   "cell_type": "markdown",
   "metadata": {},
   "source": [
    "### 7. Univariate plots of columns: 'rating', 'Age', 'release year', 'Gender' and 'Occupation' - 10 marks"
   ]
  },
  {
   "cell_type": "code",
   "execution_count": null,
   "metadata": {},
   "outputs": [],
   "source": [
    "# Univariate plot of columns 'ratings' from user rating data file\n",
    "sns.countplot(movielens_ratingsdata['rating'])"
   ]
  },
  {
   "cell_type": "code",
   "execution_count": null,
   "metadata": {},
   "outputs": [],
   "source": [
    "# Univariate plot of columns 'age' from user data file\n",
    "sns.distplot(movielens_userdata['age'])"
   ]
  },
  {
   "cell_type": "code",
   "execution_count": null,
   "metadata": {},
   "outputs": [],
   "source": [
    "# plot of based on release year from item data file\n",
    "movielens_itemdata['release date'].str.slice(7,11).value_counts().sort_index().plot()"
   ]
  },
  {
   "cell_type": "code",
   "execution_count": null,
   "metadata": {},
   "outputs": [],
   "source": [
    "# Univariate plot of columns 'gender' from user data file\n",
    "sns.countplot(movielens_userdata['gender'])"
   ]
  },
  {
   "cell_type": "code",
   "execution_count": null,
   "metadata": {},
   "outputs": [],
   "source": [
    "# Univariate plot of columns 'occupation' from user data file\n",
    "sns.countplot(movielens_userdata['occupation'])"
   ]
  },
  {
   "cell_type": "markdown",
   "metadata": {},
   "source": [
    "### 8. Visualize how popularity of genres has changed over the years - 10 marks\n",
    "\n",
    "Note that you need to use the number of releases in a year as a parameter of popularity of a genre"
   ]
  },
  {
   "cell_type": "markdown",
   "metadata": {},
   "source": [
    "Hint \n",
    "\n",
    "1: you need to reach to a data frame where the release year is the index and the genre is the column names (one cell shows the number of release in a year in one genre) or vice versa.\n",
    "Once that is achieved, you can either use univariate plots or can use the heatmap to visualise all the changes over the years \n",
    "in one go. \n",
    "\n",
    "Hint 2: Use groupby on the relevant column and use sum() on the same to find out the nuumber of releases in a year/genre.  "
   ]
  },
  {
   "cell_type": "code",
   "execution_count": null,
   "metadata": {},
   "outputs": [],
   "source": [
    "movielens_itemdata['release year'] = movielens_itemdata['release date'].str[-2:]\n",
    "sum1 = movielens_itemdata.groupby('release year').sum().sort_values('release year', ascending=False)\n",
    "sns.heatmap(sum1, vmin=0, vmax=1, cmap='BuPu')"
   ]
  },
  {
   "cell_type": "markdown",
   "metadata": {},
   "source": [
    "### 9. Find the top 25 movies according to average ratings such that each movie has number of ratings more than 100 - 10 marks\n",
    "\n",
    "Hint : \n",
    "1. First find the movies that have more than 100 ratings(use merge, groupby and count). Extract the movie titles in a list.\n",
    "2. Find the average rating of all the movies and sort them in the descending order. You will have to use the .merge() function to reach to a data set through which you can get the names and the average rating.\n",
    "3. Use isin(list obtained from 1) to filter out the movies which have more than 100 ratings.\n",
    "\n",
    "Note: This question will need you to research about groupby and apply your findings. You can find more on groupby on https://realpython.com/pandas-groupby/."
   ]
  },
  {
   "cell_type": "code",
   "execution_count": null,
   "metadata": {},
   "outputs": [],
   "source": [
    "movielens_ratings = pd.merge(movielens_itemdata, movielens_ratingsdata)\n",
    "movielens_ratings.groupby('movie title').count()\n",
    "movielens_lens = pd.merge(movielens_ratings, movielens_userdata)\n",
    "most_rated = movielens_lens.groupby('movie title').size().sort_values(ascending=False)[:25]\n",
    "print(\"Top 25 movies with number of ratings more than 100\", most_rated)"
   ]
  },
  {
   "cell_type": "markdown",
   "metadata": {},
   "source": [
    "### 10. See gender distribution across different genres check for the validity of the below statements - 10 marks\n",
    "\n",
    "* Men watch more drama than women\n",
    "* Women watch more Sci-Fi than men\n",
    "* Men watch more Romance than women\n"
   ]
  },
  {
   "cell_type": "markdown",
   "metadata": {},
   "source": [
    "1. There is no need to conduct statistical tests around this. Just compare the percentages and comment on the validity of the above statements.\n",
    "\n",
    "2. you might want ot use the .sum(), .div() function here.\n",
    "3. Use number of ratings to validate the numbers. For example, if out of 4000 ratings received by women, 3000 are for drama, we will assume that 75% of the women watch drama."
   ]
  },
  {
   "cell_type": "markdown",
   "metadata": {},
   "source": [
    "#### Conclusion:\n",
    "\n"
   ]
  },
  {
   "cell_type": "code",
   "execution_count": null,
   "metadata": {},
   "outputs": [],
   "source": [
    "movielens_ratings = pd.merge(movielens_itemdata, movielens_ratingsdata)\n",
    "movielens_lens = pd.merge(movielens_ratings, movielens_userdata)\n",
    "\n",
    "gender_ratings_drama1 = movielens_lens.pivot_table('Drama', index ='gender')\n",
    "print(gender_ratings_drama1,\"\\n\")\n",
    "\n",
    "gender_ratings_SciFi = movielens_lens.pivot_table('Sci-Fi', index ='gender')\n",
    "print(gender_ratings_SciFi,\"\\n\")\n",
    "\n",
    "gender_ratings_Romance = movielens_lens.pivot_table('Romance', index ='gender')\n",
    "print(gender_ratings_Romance)"
   ]
  },
  {
   "cell_type": "code",
   "execution_count": null,
   "metadata": {},
   "outputs": [],
   "source": [
    "'''\n",
    "Based on above analysis\n",
    "\n",
    "a. We can see 'Men watch more drama than women' is false. It's other way around that more Women watch Drama movie than Men \n",
    "\n",
    "b. We can see 'Women watch more Sci-Fi than men' is false. It's other way around that more Men watch Sci-Fi movie than Women\n",
    "\n",
    "c. We can see 'Men watch more Romance than women' is fale. It's other way around that more Women watch Romance movie than Women \n",
    "\n",
    "'''"
   ]
  },
  {
   "cell_type": "code",
   "execution_count": null,
   "metadata": {},
   "outputs": [],
   "source": []
  },
  {
   "cell_type": "code",
   "execution_count": null,
   "metadata": {},
   "outputs": [],
   "source": []
  }
 ],
 "metadata": {
  "kernelspec": {
   "display_name": "Python 3",
   "language": "python",
   "name": "python3"
  },
  "language_info": {
   "codemirror_mode": {
    "name": "ipython",
    "version": 3
   },
   "file_extension": ".py",
   "mimetype": "text/x-python",
   "name": "python",
   "nbconvert_exporter": "python",
   "pygments_lexer": "ipython3",
   "version": "3.7.6"
  }
 },
 "nbformat": 4,
 "nbformat_minor": 4
}
