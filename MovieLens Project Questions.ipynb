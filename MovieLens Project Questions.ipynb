{
 "cells": [
  {
   "cell_type": "markdown",
   "metadata": {},
   "source": [
    "### Project - MovieLens Data Analysis\n",
    "\n",
    "The GroupLens Research Project is a research group in the Department of Computer Science and Engineering at the University of Minnesota. The data is widely used for collaborative filtering and other filtering solutions. However, we will be using this data to act as a means to demonstrate our skill in using Python to “play” with data.\n",
    "\n",
    "#### Domain \n",
    "Internet and Entertainment\n",
    "\n",
    "**Note that the project will need you to apply the concepts of groupby and merging extensively.**"
   ]
  },
  {
   "cell_type": "code",
   "execution_count": 1,
   "metadata": {},
   "outputs": [
    {
     "data": {
      "text/plain": [
       "'This is MovieLens Data Analysis project primarily using Python Numpy, Pandas and Seaborn packages'"
      ]
     },
     "execution_count": 1,
     "metadata": {},
     "output_type": "execute_result"
    }
   ],
   "source": [
    "'''This is MovieLens Data Analysis project primarily using Python Numpy, Pandas and Seaborn packages'''"
   ]
  },
  {
   "cell_type": "markdown",
   "metadata": {},
   "source": [
    "#### 1. Import the necessary packages - 2.5 marks"
   ]
  },
  {
   "cell_type": "code",
   "execution_count": 2,
   "metadata": {},
   "outputs": [],
   "source": [
    "import numpy as np\n",
    "import pandas as pd\n",
    "import seaborn as sns\n",
    "%matplotlib inline\n",
    "sns.set_style(style='darkgrid') # setting background for graphs to have a better view"
   ]
  },
  {
   "cell_type": "markdown",
   "metadata": {},
   "source": [
    "#### 2. Read the 3 datasets into dataframes - 2.5 marks"
   ]
  },
  {
   "cell_type": "code",
   "execution_count": 3,
   "metadata": {
    "scrolled": true
   },
   "outputs": [],
   "source": [
    "# Read Movie data\n",
    "movielens_itemdata = pd.read_csv(\"item.csv\")\n",
    "\n",
    "# Read User Ratings data\n",
    "movielens_ratingsdata = pd.read_csv(\"Data.csv\")\n",
    "\n",
    "# Read User data\n",
    "movielens_userdata = pd.read_csv(\"user.csv\")"
   ]
  },
  {
   "cell_type": "markdown",
   "metadata": {},
   "source": [
    "#### 3. Apply info, shape, describe, and find the number of missing values in the data - 5 marks"
   ]
  },
  {
   "cell_type": "code",
   "execution_count": 4,
   "metadata": {},
   "outputs": [
    {
     "name": "stdout",
     "output_type": "stream",
     "text": [
      "<class 'pandas.core.frame.DataFrame'>\n",
      "RangeIndex: 1681 entries, 0 to 1680\n",
      "Data columns (total 22 columns):\n",
      " #   Column        Non-Null Count  Dtype \n",
      "---  ------        --------------  ----- \n",
      " 0   movie id      1681 non-null   int64 \n",
      " 1   movie title   1681 non-null   object\n",
      " 2   release date  1681 non-null   object\n",
      " 3   unknown       1681 non-null   int64 \n",
      " 4   Action        1681 non-null   int64 \n",
      " 5   Adventure     1681 non-null   int64 \n",
      " 6   Animation     1681 non-null   int64 \n",
      " 7   Childrens     1681 non-null   int64 \n",
      " 8   Comedy        1681 non-null   int64 \n",
      " 9   Crime         1681 non-null   int64 \n",
      " 10  Documentary   1681 non-null   int64 \n",
      " 11  Drama         1681 non-null   int64 \n",
      " 12  Fantasy       1681 non-null   int64 \n",
      " 13  Film-Noir     1681 non-null   int64 \n",
      " 14  Horror        1681 non-null   int64 \n",
      " 15  Musical       1681 non-null   int64 \n",
      " 16  Mystery       1681 non-null   int64 \n",
      " 17  Romance       1681 non-null   int64 \n",
      " 18  Sci-Fi        1681 non-null   int64 \n",
      " 19  Thriller      1681 non-null   int64 \n",
      " 20  War           1681 non-null   int64 \n",
      " 21  Western       1681 non-null   int64 \n",
      "dtypes: int64(20), object(2)\n",
      "memory usage: 289.0+ KB\n",
      "Number of missing values in Movie data: \n",
      " movie id        0\n",
      "movie title     0\n",
      "release date    0\n",
      "unknown         0\n",
      "Action          0\n",
      "Adventure       0\n",
      "Animation       0\n",
      "Childrens       0\n",
      "Comedy          0\n",
      "Crime           0\n",
      "Documentary     0\n",
      "Drama           0\n",
      "Fantasy         0\n",
      "Film-Noir       0\n",
      "Horror          0\n",
      "Musical         0\n",
      "Mystery         0\n",
      "Romance         0\n",
      "Sci-Fi          0\n",
      "Thriller        0\n",
      "War             0\n",
      "Western         0\n",
      "dtype: int64\n",
      "<class 'pandas.core.frame.DataFrame'>\n",
      "RangeIndex: 100000 entries, 0 to 99999\n",
      "Data columns (total 4 columns):\n",
      " #   Column     Non-Null Count   Dtype\n",
      "---  ------     --------------   -----\n",
      " 0   user id    100000 non-null  int64\n",
      " 1   movie id   100000 non-null  int64\n",
      " 2   rating     100000 non-null  int64\n",
      " 3   timestamp  100000 non-null  int64\n",
      "dtypes: int64(4)\n",
      "memory usage: 3.1 MB\n",
      "Number of missing values in User Ratings data:\n",
      " user id      0\n",
      "movie id     0\n",
      "rating       0\n",
      "timestamp    0\n",
      "dtype: int64\n",
      "<class 'pandas.core.frame.DataFrame'>\n",
      "RangeIndex: 943 entries, 0 to 942\n",
      "Data columns (total 5 columns):\n",
      " #   Column      Non-Null Count  Dtype \n",
      "---  ------      --------------  ----- \n",
      " 0   user id     943 non-null    int64 \n",
      " 1   age         943 non-null    int64 \n",
      " 2   gender      943 non-null    object\n",
      " 3   occupation  943 non-null    object\n",
      " 4   zip code    943 non-null    object\n",
      "dtypes: int64(2), object(3)\n",
      "memory usage: 37.0+ KB\n",
      "Number of missing values in User data:\n",
      " user id       0\n",
      "age           0\n",
      "gender        0\n",
      "occupation    0\n",
      "zip code      0\n",
      "dtype: int64\n"
     ]
    }
   ],
   "source": [
    "# Info, shape, describe and missing values details in Movie data (item.csv)\n",
    "movielens_itemdata.info()\n",
    "np.shape(movielens_itemdata)\n",
    "movielens_itemdata.describe()\n",
    "missingvalues_itemdata = movielens_itemdata.isnull().sum()\n",
    "print(\"Number of missing values in Movie data: \\n\" ,missingvalues_itemdata)\n",
    "\n",
    "# Info, shape, describe and missing values details in rating data (data.csv)\n",
    "movielens_ratingsdata.info()\n",
    "np.shape(movielens_ratingsdata)\n",
    "movielens_ratingsdata.describe()\n",
    "missingvalues_data = movielens_ratingsdata.isnull().sum()\n",
    "print(\"Number of missing values in User Ratings data:\\n\" ,missingvalues_data)\n",
    "\n",
    "# Info, shape, describe and missing values details in user data (user.csv)\n",
    "movielens_userdata.info()\n",
    "np.shape(movielens_userdata)\n",
    "movielens_userdata.describe()\n",
    "missingvalues_userdata = movielens_userdata.isnull().sum()\n",
    "print(\"Number of missing values in User data:\\n\", missingvalues_userdata)"
   ]
  },
  {
   "cell_type": "markdown",
   "metadata": {},
   "source": [
    "#### 4. Find the number of movies per genre using the item data - 5 marks"
   ]
  },
  {
   "cell_type": "code",
   "execution_count": 5,
   "metadata": {
    "scrolled": true
   },
   "outputs": [
    {
     "name": "stdout",
     "output_type": "stream",
     "text": [
      "Number of movies per genre:\n",
      " unknown          1\n",
      "Action         251\n",
      "Adventure      135\n",
      "Animation       42\n",
      "Childrens      122\n",
      "Comedy         505\n",
      "Crime          109\n",
      "Documentary     50\n",
      "Drama          725\n",
      "Fantasy         22\n",
      "Film-Noir       24\n",
      "Horror          92\n",
      "Musical         56\n",
      "Mystery         61\n",
      "Romance        247\n",
      "Sci-Fi         101\n",
      "Thriller       251\n",
      "War             71\n",
      "Western         27\n",
      "dtype: int64\n"
     ]
    }
   ],
   "source": [
    "# First 3 columns ('movie id', 'movie title' & 'release date') in item sheet are not genre so they have been excluded using loc \n",
    "number_movies = movielens_itemdata.loc[:,'unknown':'Western'].sum()\n",
    "print(\"Number of movies per genre:\\n\",number_movies)"
   ]
  },
  {
   "cell_type": "markdown",
   "metadata": {},
   "source": [
    "#### 5. Find the movies that have more than one genre - 2.5 marks"
   ]
  },
  {
   "cell_type": "code",
   "execution_count": 6,
   "metadata": {},
   "outputs": [
    {
     "data": {
      "text/html": [
       "<div>\n",
       "<style scoped>\n",
       "    .dataframe tbody tr th:only-of-type {\n",
       "        vertical-align: middle;\n",
       "    }\n",
       "\n",
       "    .dataframe tbody tr th {\n",
       "        vertical-align: top;\n",
       "    }\n",
       "\n",
       "    .dataframe thead th {\n",
       "        text-align: right;\n",
       "    }\n",
       "</style>\n",
       "<table border=\"1\" class=\"dataframe\">\n",
       "  <thead>\n",
       "    <tr style=\"text-align: right;\">\n",
       "      <th></th>\n",
       "      <th>movie title</th>\n",
       "      <th>release date</th>\n",
       "      <th>unknown</th>\n",
       "      <th>Action</th>\n",
       "      <th>Adventure</th>\n",
       "      <th>Animation</th>\n",
       "      <th>Childrens</th>\n",
       "      <th>Comedy</th>\n",
       "      <th>Crime</th>\n",
       "      <th>Documentary</th>\n",
       "      <th>...</th>\n",
       "      <th>Film-Noir</th>\n",
       "      <th>Horror</th>\n",
       "      <th>Musical</th>\n",
       "      <th>Mystery</th>\n",
       "      <th>Romance</th>\n",
       "      <th>Sci-Fi</th>\n",
       "      <th>Thriller</th>\n",
       "      <th>War</th>\n",
       "      <th>Western</th>\n",
       "      <th>sum_row</th>\n",
       "    </tr>\n",
       "  </thead>\n",
       "  <tbody>\n",
       "    <tr>\n",
       "      <th>0</th>\n",
       "      <td>Toy Story</td>\n",
       "      <td>01-Jan-1995</td>\n",
       "      <td>0</td>\n",
       "      <td>0</td>\n",
       "      <td>0</td>\n",
       "      <td>1</td>\n",
       "      <td>1</td>\n",
       "      <td>1</td>\n",
       "      <td>0</td>\n",
       "      <td>0</td>\n",
       "      <td>...</td>\n",
       "      <td>0</td>\n",
       "      <td>0</td>\n",
       "      <td>0</td>\n",
       "      <td>0</td>\n",
       "      <td>0</td>\n",
       "      <td>0</td>\n",
       "      <td>0</td>\n",
       "      <td>0</td>\n",
       "      <td>0</td>\n",
       "      <td>3</td>\n",
       "    </tr>\n",
       "    <tr>\n",
       "      <th>1</th>\n",
       "      <td>GoldenEye</td>\n",
       "      <td>01-Jan-1995</td>\n",
       "      <td>0</td>\n",
       "      <td>1</td>\n",
       "      <td>1</td>\n",
       "      <td>0</td>\n",
       "      <td>0</td>\n",
       "      <td>0</td>\n",
       "      <td>0</td>\n",
       "      <td>0</td>\n",
       "      <td>...</td>\n",
       "      <td>0</td>\n",
       "      <td>0</td>\n",
       "      <td>0</td>\n",
       "      <td>0</td>\n",
       "      <td>0</td>\n",
       "      <td>0</td>\n",
       "      <td>1</td>\n",
       "      <td>0</td>\n",
       "      <td>0</td>\n",
       "      <td>3</td>\n",
       "    </tr>\n",
       "    <tr>\n",
       "      <th>3</th>\n",
       "      <td>Get Shorty</td>\n",
       "      <td>01-Jan-1995</td>\n",
       "      <td>0</td>\n",
       "      <td>1</td>\n",
       "      <td>0</td>\n",
       "      <td>0</td>\n",
       "      <td>0</td>\n",
       "      <td>1</td>\n",
       "      <td>0</td>\n",
       "      <td>0</td>\n",
       "      <td>...</td>\n",
       "      <td>0</td>\n",
       "      <td>0</td>\n",
       "      <td>0</td>\n",
       "      <td>0</td>\n",
       "      <td>0</td>\n",
       "      <td>0</td>\n",
       "      <td>0</td>\n",
       "      <td>0</td>\n",
       "      <td>0</td>\n",
       "      <td>3</td>\n",
       "    </tr>\n",
       "    <tr>\n",
       "      <th>4</th>\n",
       "      <td>Copycat</td>\n",
       "      <td>01-Jan-1995</td>\n",
       "      <td>0</td>\n",
       "      <td>0</td>\n",
       "      <td>0</td>\n",
       "      <td>0</td>\n",
       "      <td>0</td>\n",
       "      <td>0</td>\n",
       "      <td>1</td>\n",
       "      <td>0</td>\n",
       "      <td>...</td>\n",
       "      <td>0</td>\n",
       "      <td>0</td>\n",
       "      <td>0</td>\n",
       "      <td>0</td>\n",
       "      <td>0</td>\n",
       "      <td>0</td>\n",
       "      <td>1</td>\n",
       "      <td>0</td>\n",
       "      <td>0</td>\n",
       "      <td>3</td>\n",
       "    </tr>\n",
       "    <tr>\n",
       "      <th>6</th>\n",
       "      <td>Twelve Monkeys</td>\n",
       "      <td>01-Jan-1995</td>\n",
       "      <td>0</td>\n",
       "      <td>0</td>\n",
       "      <td>0</td>\n",
       "      <td>0</td>\n",
       "      <td>0</td>\n",
       "      <td>0</td>\n",
       "      <td>0</td>\n",
       "      <td>0</td>\n",
       "      <td>...</td>\n",
       "      <td>0</td>\n",
       "      <td>0</td>\n",
       "      <td>0</td>\n",
       "      <td>0</td>\n",
       "      <td>0</td>\n",
       "      <td>1</td>\n",
       "      <td>0</td>\n",
       "      <td>0</td>\n",
       "      <td>0</td>\n",
       "      <td>2</td>\n",
       "    </tr>\n",
       "    <tr>\n",
       "      <th>...</th>\n",
       "      <td>...</td>\n",
       "      <td>...</td>\n",
       "      <td>...</td>\n",
       "      <td>...</td>\n",
       "      <td>...</td>\n",
       "      <td>...</td>\n",
       "      <td>...</td>\n",
       "      <td>...</td>\n",
       "      <td>...</td>\n",
       "      <td>...</td>\n",
       "      <td>...</td>\n",
       "      <td>...</td>\n",
       "      <td>...</td>\n",
       "      <td>...</td>\n",
       "      <td>...</td>\n",
       "      <td>...</td>\n",
       "      <td>...</td>\n",
       "      <td>...</td>\n",
       "      <td>...</td>\n",
       "      <td>...</td>\n",
       "      <td>...</td>\n",
       "    </tr>\n",
       "    <tr>\n",
       "      <th>1667</th>\n",
       "      <td>MURDER and murder</td>\n",
       "      <td>20-Jun-1997</td>\n",
       "      <td>0</td>\n",
       "      <td>0</td>\n",
       "      <td>0</td>\n",
       "      <td>0</td>\n",
       "      <td>0</td>\n",
       "      <td>0</td>\n",
       "      <td>1</td>\n",
       "      <td>0</td>\n",
       "      <td>...</td>\n",
       "      <td>0</td>\n",
       "      <td>0</td>\n",
       "      <td>0</td>\n",
       "      <td>1</td>\n",
       "      <td>0</td>\n",
       "      <td>0</td>\n",
       "      <td>0</td>\n",
       "      <td>0</td>\n",
       "      <td>0</td>\n",
       "      <td>3</td>\n",
       "    </tr>\n",
       "    <tr>\n",
       "      <th>1668</th>\n",
       "      <td>Tainted</td>\n",
       "      <td>01-Feb-1998</td>\n",
       "      <td>0</td>\n",
       "      <td>0</td>\n",
       "      <td>0</td>\n",
       "      <td>0</td>\n",
       "      <td>0</td>\n",
       "      <td>1</td>\n",
       "      <td>0</td>\n",
       "      <td>0</td>\n",
       "      <td>...</td>\n",
       "      <td>0</td>\n",
       "      <td>0</td>\n",
       "      <td>0</td>\n",
       "      <td>0</td>\n",
       "      <td>0</td>\n",
       "      <td>0</td>\n",
       "      <td>1</td>\n",
       "      <td>0</td>\n",
       "      <td>0</td>\n",
       "      <td>2</td>\n",
       "    </tr>\n",
       "    <tr>\n",
       "      <th>1671</th>\n",
       "      <td>Mirage</td>\n",
       "      <td>01-Jan-1995</td>\n",
       "      <td>0</td>\n",
       "      <td>1</td>\n",
       "      <td>0</td>\n",
       "      <td>0</td>\n",
       "      <td>0</td>\n",
       "      <td>0</td>\n",
       "      <td>0</td>\n",
       "      <td>0</td>\n",
       "      <td>...</td>\n",
       "      <td>0</td>\n",
       "      <td>0</td>\n",
       "      <td>0</td>\n",
       "      <td>0</td>\n",
       "      <td>0</td>\n",
       "      <td>0</td>\n",
       "      <td>1</td>\n",
       "      <td>0</td>\n",
       "      <td>0</td>\n",
       "      <td>2</td>\n",
       "    </tr>\n",
       "    <tr>\n",
       "      <th>1677</th>\n",
       "      <td>B. Monkey</td>\n",
       "      <td>06-Feb-1998</td>\n",
       "      <td>0</td>\n",
       "      <td>0</td>\n",
       "      <td>0</td>\n",
       "      <td>0</td>\n",
       "      <td>0</td>\n",
       "      <td>0</td>\n",
       "      <td>0</td>\n",
       "      <td>0</td>\n",
       "      <td>...</td>\n",
       "      <td>0</td>\n",
       "      <td>0</td>\n",
       "      <td>0</td>\n",
       "      <td>0</td>\n",
       "      <td>1</td>\n",
       "      <td>0</td>\n",
       "      <td>1</td>\n",
       "      <td>0</td>\n",
       "      <td>0</td>\n",
       "      <td>2</td>\n",
       "    </tr>\n",
       "    <tr>\n",
       "      <th>1678</th>\n",
       "      <td>Sliding Doors</td>\n",
       "      <td>01-Jan-1998</td>\n",
       "      <td>0</td>\n",
       "      <td>0</td>\n",
       "      <td>0</td>\n",
       "      <td>0</td>\n",
       "      <td>0</td>\n",
       "      <td>0</td>\n",
       "      <td>0</td>\n",
       "      <td>0</td>\n",
       "      <td>...</td>\n",
       "      <td>0</td>\n",
       "      <td>0</td>\n",
       "      <td>0</td>\n",
       "      <td>0</td>\n",
       "      <td>1</td>\n",
       "      <td>0</td>\n",
       "      <td>0</td>\n",
       "      <td>0</td>\n",
       "      <td>0</td>\n",
       "      <td>2</td>\n",
       "    </tr>\n",
       "  </tbody>\n",
       "</table>\n",
       "<p>849 rows × 22 columns</p>\n",
       "</div>"
      ],
      "text/plain": [
       "             movie title release date  unknown  Action  Adventure  Animation  \\\n",
       "0             Toy Story   01-Jan-1995        0       0          0          1   \n",
       "1             GoldenEye   01-Jan-1995        0       1          1          0   \n",
       "3            Get Shorty   01-Jan-1995        0       1          0          0   \n",
       "4               Copycat   01-Jan-1995        0       0          0          0   \n",
       "6        Twelve Monkeys   01-Jan-1995        0       0          0          0   \n",
       "...                  ...          ...      ...     ...        ...        ...   \n",
       "1667  MURDER and murder   20-Jun-1997        0       0          0          0   \n",
       "1668            Tainted   01-Feb-1998        0       0          0          0   \n",
       "1671             Mirage   01-Jan-1995        0       1          0          0   \n",
       "1677          B. Monkey   06-Feb-1998        0       0          0          0   \n",
       "1678      Sliding Doors   01-Jan-1998        0       0          0          0   \n",
       "\n",
       "      Childrens  Comedy  Crime  Documentary  ...  Film-Noir  Horror  Musical  \\\n",
       "0             1       1      0            0  ...          0       0        0   \n",
       "1             0       0      0            0  ...          0       0        0   \n",
       "3             0       1      0            0  ...          0       0        0   \n",
       "4             0       0      1            0  ...          0       0        0   \n",
       "6             0       0      0            0  ...          0       0        0   \n",
       "...         ...     ...    ...          ...  ...        ...     ...      ...   \n",
       "1667          0       0      1            0  ...          0       0        0   \n",
       "1668          0       1      0            0  ...          0       0        0   \n",
       "1671          0       0      0            0  ...          0       0        0   \n",
       "1677          0       0      0            0  ...          0       0        0   \n",
       "1678          0       0      0            0  ...          0       0        0   \n",
       "\n",
       "      Mystery  Romance  Sci-Fi  Thriller  War  Western  sum_row  \n",
       "0           0        0       0         0    0        0        3  \n",
       "1           0        0       0         1    0        0        3  \n",
       "3           0        0       0         0    0        0        3  \n",
       "4           0        0       0         1    0        0        3  \n",
       "6           0        0       1         0    0        0        2  \n",
       "...       ...      ...     ...       ...  ...      ...      ...  \n",
       "1667        1        0       0         0    0        0        3  \n",
       "1668        0        0       0         1    0        0        2  \n",
       "1671        0        0       0         1    0        0        2  \n",
       "1677        0        1       0         1    0        0        2  \n",
       "1678        0        1       0         0    0        0        2  \n",
       "\n",
       "[849 rows x 22 columns]"
      ]
     },
     "execution_count": 6,
     "metadata": {},
     "output_type": "execute_result"
    }
   ],
   "source": [
    "# Excluded 'movie id' column by dropping from dataframe which is not required while summing up the rows \n",
    "movielens_drop = movielens_itemdata.drop(['movie id'], axis =1)\n",
    "movielens_drop['sum_row'] = movielens_drop.sum( axis=1 )\n",
    "movielens_drop[movielens_drop.sum_row >1]"
   ]
  },
  {
   "cell_type": "markdown",
   "metadata": {},
   "source": [
    "#### 6. Drop the movie where the genre is unknown - 2.5 marks"
   ]
  },
  {
   "cell_type": "code",
   "execution_count": 7,
   "metadata": {},
   "outputs": [
    {
     "name": "stdout",
     "output_type": "stream",
     "text": [
      "Length before dropping 1681\n",
      "Length after dropping 1680\n"
     ]
    }
   ],
   "source": [
    "# dropped the movie with unkown genre and printed the len before and after \n",
    "len1 = len(movielens_itemdata)\n",
    "print(\"Length before dropping\", len1)\n",
    "movielens_itemdata = movielens_itemdata.drop(movielens_itemdata[movielens_itemdata.unknown == 1].index)\n",
    "print(\"Length after dropping\", len(movielens_itemdata))"
   ]
  },
  {
   "cell_type": "markdown",
   "metadata": {},
   "source": [
    "### 7. Univariate plots of columns: 'rating', 'Age', 'release year', 'Gender' and 'Occupation' - 10 marks"
   ]
  },
  {
   "cell_type": "code",
   "execution_count": 8,
   "metadata": {},
   "outputs": [
    {
     "data": {
      "text/plain": [
       "<matplotlib.axes._subplots.AxesSubplot at 0x19a87731608>"
      ]
     },
     "execution_count": 8,
     "metadata": {},
     "output_type": "execute_result"
    },
    {
     "data": {
      "image/png": "[encoded data removed]",
      "text/plain": [
       "<Figure size 432x288 with 1 Axes>"
      ]
     },
     "metadata": {},
     "output_type": "display_data"
    }
   ],
   "source": [
    "# Univariate plot of columns 'ratings' from user rating data file\n",
    "sns.countplot(movielens_ratingsdata['rating'])"
   ]
  },
  {
   "cell_type": "code",
   "execution_count": 9,
   "metadata": {},
   "outputs": [
    {
     "data": {
      "text/plain": [
       "<matplotlib.axes._subplots.AxesSubplot at 0x19a8977b648>"
      ]
     },
     "execution_count": 9,
     "metadata": {},
     "output_type": "execute_result"
    },
    {
     "data": {
      "image/png": "[encoded data removed]",
      "text/plain": [
       "<Figure size 432x288 with 1 Axes>"
      ]
     },
     "metadata": {},
     "output_type": "display_data"
    }
   ],
   "source": [
    "# Univariate plot of columns 'age' from user data file\n",
    "sns.distplot(movielens_userdata['age'])"
   ]
  },
  {
   "cell_type": "code",
   "execution_count": 10,
   "metadata": {},
   "outputs": [
    {
     "data": {
      "text/plain": [
       "<matplotlib.axes._subplots.AxesSubplot at 0x19a89882688>"
      ]
     },
     "execution_count": 10,
     "metadata": {},
     "output_type": "execute_result"
    },
    {
     "data": {
      "image/png": "[encoded data removed]",
      "text/plain": [
       "<Figure size 432x288 with 1 Axes>"
      ]
     },
     "metadata": {},
     "output_type": "display_data"
    }
   ],
   "source": [
    "# plot of based on release year from item data file\n",
    "movielens_itemdata['release date'].str.slice(7,11).value_counts().sort_index().plot()"
   ]
  },
  {
   "cell_type": "code",
   "execution_count": 11,
   "metadata": {},
   "outputs": [
    {
     "data": {
      "text/plain": [
       "<matplotlib.axes._subplots.AxesSubplot at 0x19a8977be08>"
      ]
     },
     "execution_count": 11,
     "metadata": {},
     "output_type": "execute_result"
    },
    {
     "data": {
      "image/png": "[encoded data removed]",
      "text/plain": [
       "<Figure size 432x288 with 1 Axes>"
      ]
     },
     "metadata": {},
     "output_type": "display_data"
    }
   ],
   "source": [
    "# Univariate plot of columns 'gender' from user data file\n",
    "sns.countplot(movielens_userdata['gender'])"
   ]
  },
  {
   "cell_type": "code",
   "execution_count": 28,
   "metadata": {},
   "outputs": [
    {
     "data": {
      "text/plain": [
       "[Text(0, 0, 'technician'),\n",
       " Text(0, 0, 'other'),\n",
       " Text(0, 0, 'writer'),\n",
       " Text(0, 0, 'executive'),\n",
       " Text(0, 0, 'administrator'),\n",
       " Text(0, 0, 'student'),\n",
       " Text(0, 0, 'lawyer'),\n",
       " Text(0, 0, 'educator'),\n",
       " Text(0, 0, 'scientist'),\n",
       " Text(0, 0, 'entertainment'),\n",
       " Text(0, 0, 'programmer'),\n",
       " Text(0, 0, 'librarian'),\n",
       " Text(0, 0, 'homemaker'),\n",
       " Text(0, 0, 'artist'),\n",
       " Text(0, 0, 'engineer'),\n",
       " Text(0, 0, 'marketing'),\n",
       " Text(0, 0, 'none'),\n",
       " Text(0, 0, 'healthcare'),\n",
       " Text(0, 0, 'retired'),\n",
       " Text(0, 0, 'salesman'),\n",
       " Text(0, 0, 'doctor')]"
      ]
     },
     "execution_count": 28,
     "metadata": {},
     "output_type": "execute_result"
    },
    {
     "data": {
      "image/png": "[encoded data removed]",
      "text/plain": [
       "<Figure size 432x288 with 1 Axes>"
      ]
     },
     "metadata": {},
     "output_type": "display_data"
    }
   ],
   "source": [
    "# Univariate plot of columns 'occupation' from user data file\n",
    "occupation = sns.countplot(movielens_userdata['occupation'])\n",
    "occupation.set_xticklabels(occupation.get_xticklabels(), rotation=40, ha=\"right\")"
   ]
  },
  {
   "cell_type": "markdown",
   "metadata": {},
   "source": [
    "### 8. Visualize how popularity of genres has changed over the years - 10 marks\n",
    "\n",
    "Note that you need to use the number of releases in a year as a parameter of popularity of a genre"
   ]
  },
  {
   "cell_type": "markdown",
   "metadata": {},
   "source": [
    "Hint \n",
    "\n",
    "1: you need to reach to a data frame where the release year is the index and the genre is the column names (one cell shows the number of release in a year in one genre) or vice versa.\n",
    "Once that is achieved, you can either use univariate plots or can use the heatmap to visualise all the changes over the years \n",
    "in one go. \n",
    "\n",
    "Hint 2: Use groupby on the relevant column and use sum() on the same to find out the nuumber of releases in a year/genre.  "
   ]
  },
  {
   "cell_type": "code",
   "execution_count": 13,
   "metadata": {},
   "outputs": [
    {
     "data": {
      "text/plain": [
       "<matplotlib.axes._subplots.AxesSubplot at 0x19a89a432c8>"
      ]
     },
     "execution_count": 13,
     "metadata": {},
     "output_type": "execute_result"
    },
    {
     "data": {
      "image/png": "[encoded data removed]",
      "text/plain": [
       "<Figure size 432x288 with 2 Axes>"
      ]
     },
     "metadata": {},
     "output_type": "display_data"
    }
   ],
   "source": [
    "movielens_itemdata['release year'] = movielens_itemdata['release date'].str[-2:]\n",
    "sum1 = movielens_itemdata.groupby('release year').sum().sort_values('release year', ascending=False)\n",
    "sns.heatmap(sum1, vmin=0, vmax=1, cmap='BuPu')"
   ]
  },
  {
   "cell_type": "markdown",
   "metadata": {},
   "source": [
    "### 9. Find the top 25 movies according to average ratings such that each movie has number of ratings more than 100 - 10 marks\n",
    "\n",
    "Hint : \n",
    "1. First find the movies that have more than 100 ratings(use merge, groupby and count). Extract the movie titles in a list.\n",
    "2. Find the average rating of all the movies and sort them in the descending order. You will have to use the .merge() function to reach to a data set through which you can get the names and the average rating.\n",
    "3. Use isin(list obtained from 1) to filter out the movies which have more than 100 ratings.\n",
    "\n",
    "Note: This question will need you to research about groupby and apply your findings. You can find more on groupby on https://realpython.com/pandas-groupby/."
   ]
  },
  {
   "cell_type": "code",
   "execution_count": 14,
   "metadata": {},
   "outputs": [
    {
     "name": "stdout",
     "output_type": "stream",
     "text": [
      "Top 25 movies with number of ratings more than 100 movie title\n",
      "Star Wars                              583\n",
      "Contact                                509\n",
      "Fargo                                  508\n",
      "Return of the Jedi                     507\n",
      "Liar Liar                              485\n",
      "English Patient, The                   481\n",
      "Scream                                 478\n",
      "Toy Story                              452\n",
      "Air Force One                          431\n",
      "Independence Day (ID4)                 429\n",
      "Raiders of the Lost Ark                420\n",
      "Godfather, The                         413\n",
      "Pulp Fiction                           394\n",
      "Twelve Monkeys                         392\n",
      "Silence of the Lambs, The              390\n",
      "Jerry Maguire                          384\n",
      "Chasing Amy                            379\n",
      "Rock, The                              378\n",
      "Empire Strikes Back, The               367\n",
      "Star Trek: First Contact               365\n",
      "Titanic                                350\n",
      "Back to the Future                     350\n",
      "Mission: Impossible                    344\n",
      "Fugitive, The                          336\n",
      "Indiana Jones and the Last Crusade     331\n",
      "dtype: int64\n"
     ]
    }
   ],
   "source": [
    "movielens_ratings = pd.merge(movielens_itemdata, movielens_ratingsdata)\n",
    "movielens_ratings.groupby('movie title').count()\n",
    "movielens_lens = pd.merge(movielens_ratings, movielens_userdata)\n",
    "most_rated = movielens_lens.groupby('movie title').size().sort_values(ascending=False)[:25]\n",
    "print(\"Top 25 movies with number of ratings more than 100\", most_rated)"
   ]
  },
  {
   "cell_type": "markdown",
   "metadata": {},
   "source": [
    "### 10. See gender distribution across different genres check for the validity of the below statements - 10 marks\n",
    "\n",
    "* Men watch more drama than women\n",
    "* Women watch more Sci-Fi than men\n",
    "* Men watch more Romance than women\n"
   ]
  },
  {
   "cell_type": "markdown",
   "metadata": {},
   "source": [
    "1. There is no need to conduct statistical tests around this. Just compare the percentages and comment on the validity of the above statements.\n",
    "\n",
    "2. you might want ot use the .sum(), .div() function here.\n",
    "3. Use number of ratings to validate the numbers. For example, if out of 4000 ratings received by women, 3000 are for drama, we will assume that 75% of the women watch drama."
   ]
  },
  {
   "cell_type": "markdown",
   "metadata": {},
   "source": [
    "#### Conclusion:\n",
    "\n"
   ]
  },
  {
   "cell_type": "code",
   "execution_count": 15,
   "metadata": {},
   "outputs": [
    {
     "name": "stdout",
     "output_type": "stream",
     "text": [
      "           Drama\n",
      "gender          \n",
      "F       0.427694\n",
      "M       0.389040 \n",
      "\n",
      "          Sci-Fi\n",
      "gender          \n",
      "F       0.102145\n",
      "M       0.136037 \n",
      "\n",
      "         Romance\n",
      "gender          \n",
      "F       0.227601\n",
      "M       0.183200\n"
     ]
    }
   ],
   "source": [
    "movielens_ratings = pd.merge(movielens_itemdata, movielens_ratingsdata)\n",
    "movielens_lens = pd.merge(movielens_ratings, movielens_userdata)\n",
    "\n",
    "gender_ratings_drama1 = movielens_lens.pivot_table('Drama', index ='gender')\n",
    "print(gender_ratings_drama1,\"\\n\")\n",
    "\n",
    "gender_ratings_SciFi = movielens_lens.pivot_table('Sci-Fi', index ='gender')\n",
    "print(gender_ratings_SciFi,\"\\n\")\n",
    "\n",
    "gender_ratings_Romance = movielens_lens.pivot_table('Romance', index ='gender')\n",
    "print(gender_ratings_Romance)"
   ]
  },
  {
   "cell_type": "code",
   "execution_count": 16,
   "metadata": {},
   "outputs": [
    {
     "data": {
      "text/plain": [
       "\"\\nBased on above analysis\\n\\na. We can see 'Men watch more drama than women' is false. It's other way around that more Women watch Drama movie than Men \\n\\nb. We can see 'Women watch more Sci-Fi than men' is false. It's other way around that more Men watch Sci-Fi movie than Women\\n\\nc. We can see 'Men watch more Romance than women' is fale. It's other way around that more Women watch Romance movie than Women \\n\\n\""
      ]
     },
     "execution_count": 16,
     "metadata": {},
     "output_type": "execute_result"
    }
   ],
   "source": [
    "'''\n",
    "Based on above analysis\n",
    "\n",
    "a. We can see 'Men watch more drama than women' is false. It's other way around that more Women watch Drama movie than Men \n",
    "\n",
    "b. We can see 'Women watch more Sci-Fi than men' is false. It's other way around that more Men watch Sci-Fi movie than Women\n",
    "\n",
    "c. We can see 'Men watch more Romance than women' is fale. It's other way around that more Women watch Romance movie than Women \n",
    "\n",
    "'''"
   ]
  }
 ],
 "metadata": {
  "kernelspec": {
   "display_name": "Python 3",
   "language": "python",
   "name": "python3"
  },
  "language_info": {
   "codemirror_mode": {
    "name": "ipython",
    "version": 3
   },
   "file_extension": ".py",
   "mimetype": "text/x-python",
   "name": "python",
   "nbconvert_exporter": "python",
   "pygments_lexer": "ipython3",
   "version": "3.7.6"
  }
 },
 "nbformat": 4,
 "nbformat_minor": 4
}
